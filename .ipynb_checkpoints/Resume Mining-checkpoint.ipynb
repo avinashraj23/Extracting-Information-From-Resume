{
 "cells": [
  {
   "cell_type": "markdown",
   "metadata": {},
   "source": [
    "# Path where Resume Converted Into 'Text' Format Is Located"
   ]
  },
  {
   "cell_type": "code",
   "execution_count": 1,
   "metadata": {},
   "outputs": [
    {
     "name": "stdout",
     "output_type": "stream",
     "text": [
      "/home/venkatesh/Documents/Extracting-Information-From-Resume/textresume\n"
     ]
    }
   ],
   "source": [
    "path = r'/home/venkatesh/Documents/Extracting-Information-From-Resume/textresume'\n",
    "print(path)"
   ]
  },
  {
   "cell_type": "markdown",
   "metadata": {},
   "source": [
    "# Creating A CSV File Where 'NAME', 'EMAIL', 'PHONE' etc. parsed from Resume would be stored!"
   ]
  },
  {
   "cell_type": "code",
   "execution_count": 2,
   "metadata": {},
   "outputs": [],
   "source": [
    "import csv\n",
    "csvfile= r'/home/venkatesh/Documents/Extracting-Information-From-Resume/Information.csv'\n",
    "# print(csvfile)\n",
    "\n",
    "# fo = open(csvfile,\"w\")\n",
    "# fo.write = \"email,phone\"\n",
    "# print(10)\n",
    "# fo.close()\n",
    "\n",
    "import csv\n",
    "\n",
    "row = ['E-Mail', 'Phone','Name','Instituton', 'CGPA', '12th Marks', '10th Marks','No of Prog Lang','Programming Lang']\n",
    "\n",
    "with open(csvfile, 'w+') as csvFile:\n",
    "    writer = csv.writer(csvFile, lineterminator='\\n')\n",
    "    writer.writerow(row)\n",
    "csvFile.close()"
   ]
  },
  {
   "cell_type": "code",
   "execution_count": 3,
   "metadata": {},
   "outputs": [],
   "source": [
    "def check(str):\n",
    "    badwords = {'at','in','where','by','although','with','to','along','a','an'}\n",
    "    str = str.lower()\n",
    "    wd = str.split()\n",
    "    wd = set(wd)\n",
    "    match = wd.intersection(badwords)\n",
    "    if len(match) > 0:\n",
    "        return True\n",
    "    else:\n",
    "        return False\n",
    "    "
   ]
  },
  {
   "cell_type": "markdown",
   "metadata": {},
   "source": [
    "# Mining Information From All the Resumes Kept In A Specific Directory"
   ]
  },
  {
   "cell_type": "code",
   "execution_count": 5,
   "metadata": {},
   "outputs": [
    {
     "name": "stdout",
     "output_type": "stream",
     "text": [
      "['galgotias university, greater noida', ' galgotias university ', 'malaviya national institute of technology,']\n",
      "['galgotias university, greater noida', 'a hackathon held in galgotias university with a vision to promote coding culture']\n",
      "[' university university ', ' a hackathon held in galgotias university with a']\n"
     ]
    }
   ],
   "source": [
    "import os\n",
    "import re\n",
    "from nltk.tokenize import sent_tokenize, word_tokenize\n",
    "import nltk\n",
    "files = []\n",
    "\n",
    "fo1 = open(r'/home/venkatesh/Documents/Extracting-Information-From-Resume/Allname.txt', encoding=\"ISO-8859-1\")\n",
    "nameset = {}\n",
    "nameset = fo1.read()\n",
    "fo1.close()\n",
    "\n",
    "fo2 = open(r'/home/venkatesh/Documents/Extracting-Information-From-Resume/alllanguages', encoding=\"ISO-8859-1\")\n",
    "\n",
    "langset = fo2.readlines()\n",
    "skill = langset[0].split()\n",
    "skill = set(skill)\n",
    "fo2.close()\n",
    "\n",
    "\n",
    "for i in os.listdir(path):\n",
    "    if i.endswith('.txt'):\n",
    "        #print(i)\n",
    "        new_path = os.path.join(path,i)\n",
    "        #print(new_path)\n",
    "        file = open(new_path, encoding=\"ISO-8859-1\")\n",
    "        list = []\n",
    "        fileread = file.read()\n",
    "        emails = re.findall(r\"[a-z0-9\\.\\-+_]+@[a-z0-9\\.\\-+_]+\\.[a-z]+\", fileread)\n",
    "        for i in emails:\n",
    "            list.append(i)\n",
    "            break\n",
    "            \n",
    "        if len(list) is 0:\n",
    "            list.append(\"NA\")\n",
    "            \n",
    "        phone = re.findall(r\"[0-9]{10}\", fileread)\n",
    "        for j in phone:\n",
    "            j = \"+91-\" + j\n",
    "            list.append(j)\n",
    "            break\n",
    "        if len(list) is 1:\n",
    "            list.append(\"NA\")\n",
    "            \n",
    "#         github = re.findall(r\"/^\\/\\/github.com\\/[^\\/]*\\/?$/\", fileread)\n",
    "#         for i in github:\n",
    "#             list.append(i)\n",
    "#             break\n",
    "            \n",
    "        \n",
    "        sent = word_tokenize(fileread)\n",
    "        sent = sent[0:5]\n",
    "        str = \"\"\n",
    "        for k in sent:\n",
    "            if k.lower() in nameset and k.lower() is not 'name':\n",
    "                str1 = k + \" \"\n",
    "                str = str + str1\n",
    "        name = str.strip().title()\n",
    "        list.append(name)\n",
    "\n",
    "            \n",
    "        if len(list) is 2:\n",
    "            list.append(\"NA\")\n",
    "            \n",
    "        content = fileread.lower()\n",
    "        #dict = {'institute','university','college','management','I.C.A.I','school','vishvavidyalaya','engineering','technology','mahavidyalaya','vidyalaya'}\n",
    "        patt = '[A-Za-z,\" ]+university[A-Za-z,\" ]+|[A-Za-z,\" ]+management[A-Za-z,\" ]+|[A-Za-z,\" ]+I.C.A.I[A-Za-z,\" ]+|[A-Za-z,\" ]+vishvavidyalaya[A-Za-z,\" ]+|[A-Za-z,\" ]+engineering[A-Za-z,\" ]+|[A-Za-z,\" ]+technology[A-Za-z,\" ]+|[A-Za-z,\" ]+mahavidyalaya[A-Za-z,\" ]+|[A-Za-z,\" ]+vidyalaya[A-Za-z,\" ]+'\n",
    "        find = re.findall(patt, content)\n",
    "        print(find)\n",
    "        for kl in find:\n",
    "            nm = kl.strip()\n",
    "            if nm == 'university':\n",
    "                continue\n",
    "            str = kl\n",
    "            val = check(str)\n",
    "            if val is False:\n",
    "                nm = kl.strip().title()\n",
    "                #print(nm)\n",
    "                list.append(nm)\n",
    "                break\n",
    "        if len(list) is 3:\n",
    "            list.append(\"NA\")\n",
    "        \n",
    "        \n",
    "        \n",
    "        readfile = open(new_path)\n",
    "        con = readfile.readlines()\n",
    "        for grade in con:\n",
    "    #print(i)\n",
    "            #print(grade)\n",
    "            pattern = '([2-9]{1}|\\d\\d)\\.[0-9]+(\\ %|\\%)*|([2-9]\\d%)'\n",
    "            match = re.search(pattern,grade)\n",
    "            if match:\n",
    "                marks = match.group()\n",
    "                list.append(marks)\n",
    "                if len(list) > 6:\n",
    "                    break\n",
    "            \n",
    "        if len(list) is 4:\n",
    "            list.append(\"NA\")\n",
    "        if len(list) is 5:\n",
    "            list.append(\"NA\")\n",
    "        if len(list) is 6:\n",
    "            list.append(\"NA\")\n",
    "        \n",
    "#         wordtoken = word_tokenize(fileread)\n",
    "#         listlang = []\n",
    "#         strprog = \"\"\n",
    "#         for kj in wordtoken:\n",
    "#             #print(kj)\n",
    "#             checklang = checkproglang(kj)\n",
    "#             if checklang is False and kj.lower() in langset and len(kj)>2:\n",
    "#                 strprog1 = kj + \" \"\n",
    "#                 strprog = strprog + strprog1\n",
    "        \n",
    "#         namelang = strprog.strip().title()\n",
    "#         list.append(namelang)\n",
    "        words = word_tokenize(fileread)\n",
    "        lowcase = []\n",
    "        for w in words:\n",
    "            w = w.strip().lower()\n",
    "            lowcase.append(w)\n",
    "        \n",
    "        wordtkn = set(lowcase)\n",
    "        #print(langset)\n",
    "        plngskills = wordtkn.intersection(skill)\n",
    "        \n",
    "        if 'assembly' not in plngskills and 'language' in plngskills:\n",
    "            plngskills.remove('language')\n",
    "        elif 'assembly' in plngskills and 'language' in plngskills:\n",
    "            plngskills.remove('assembly')\n",
    "            plngskills.remove('language')\n",
    "            plngskills.add('assembly langauge')\n",
    "        #print(plngskills)\n",
    "        nooflng = len(plngskills)\n",
    "        list.append(nooflng)\n",
    "        \n",
    "        strskill = \"\"\n",
    "        for skil in plngskills:\n",
    "            skil = skil + \", \"\n",
    "            strskill = strskill + skil\n",
    "            \n",
    "        strskill = strskill.strip().title()\n",
    "        strskill = strskill[0:len(strskill)-1]\n",
    "        list.append(strskill)\n",
    "        if len(list) is 7:\n",
    "            list.append(\"NA\")\n",
    "        if len(list) is 8:\n",
    "            list.append(\"NA\")\n",
    "                \n",
    "                \n",
    "                \n",
    "        \n",
    "            \n",
    "        \n",
    "        #print(list)\n",
    "            \n",
    "        \n",
    "        writer(list)\n",
    "        file.close()\n",
    "        \n",
    "        \n",
    "        "
   ]
  },
  {
   "cell_type": "markdown",
   "metadata": {},
   "source": [
    "# Writing To CSV File"
   ]
  },
  {
   "cell_type": "code",
   "execution_count": 4,
   "metadata": {},
   "outputs": [],
   "source": [
    "import csv\n",
    "def writer(rows):\n",
    "    csvfile= r'/home/venkatesh/Documents/Extracting-Information-From-Resume/Information.csv'\n",
    "    with open(csvfile, 'a') as csvFile:\n",
    "        writer = csv.writer(csvFile, lineterminator='\\n')\n",
    "        writer.writerow(rows)\n",
    "    csvFile.close()"
   ]
  },
  {
   "cell_type": "markdown",
   "metadata": {},
   "source": [
    "# This is what that is added to the CSV File"
   ]
  },
  {
   "cell_type": "code",
   "execution_count": 6,
   "metadata": {},
   "outputs": [
    {
     "name": "stdout",
     "output_type": "stream",
     "text": [
      "E-Mail,Phone,Name,Instituton,CGPA,12th Marks,10th Marks,No of Prog Lang,Programming Lang\n",
      "venkateshgupta1800@gmail.com,+91-9871014267,Venkatesh,\"Galgotias University, Greater Noida\",8.52,89.6%,93.3 %,2,\"Java, Python\"\n",
      "rakesh25892@gmail.com,+91-8826111879,Rakesh Kumar Sah,\"Galgotias University, Greater Noida\",8.21,NA,NA,2,\"Php, Python\"\n",
      "avinashraj23@gmail.com,+91-9650495343,Avinash Raj,University University,78.6%,NA,NA,2,\"Php, Javascript\"\n",
      "\n"
     ]
    }
   ],
   "source": [
    "file = open('/home/venkatesh/Documents/Extracting-Information-From-Resume/Information.csv')\n",
    "print(file.read())"
   ]
  },
  {
   "cell_type": "markdown",
   "metadata": {},
   "source": [
    "# Using Pandas Data Frame"
   ]
  },
  {
   "cell_type": "code",
   "execution_count": 7,
   "metadata": {},
   "outputs": [
    {
     "name": "stdout",
     "output_type": "stream",
     "text": [
      "10\n"
     ]
    }
   ],
   "source": [
    "print(10)\n",
    "import pandas as pd\n",
    "PATH = \"/home/venkatesh/Documents/Extracting-Information-From-Resume/Information.csv\"\n",
    "frame = pd.read_csv(PATH)"
   ]
  },
  {
   "cell_type": "code",
   "execution_count": 8,
   "metadata": {},
   "outputs": [
    {
     "name": "stdout",
     "output_type": "stream",
     "text": [
      "<class 'pandas.core.frame.DataFrame'>\n",
      "RangeIndex: 3 entries, 0 to 2\n",
      "Data columns (total 9 columns):\n",
      "E-Mail              3 non-null object\n",
      "Phone               3 non-null object\n",
      "Name                3 non-null object\n",
      "Instituton          3 non-null object\n",
      "CGPA                3 non-null object\n",
      "12th Marks          1 non-null object\n",
      "10th Marks          1 non-null object\n",
      "No of Prog Lang     3 non-null int64\n",
      "Programming Lang    3 non-null object\n",
      "dtypes: int64(1), object(8)\n",
      "memory usage: 296.0+ bytes\n"
     ]
    }
   ],
   "source": [
    "frame.info()"
   ]
  },
  {
   "cell_type": "code",
   "execution_count": 9,
   "metadata": {},
   "outputs": [
    {
     "data": {
      "text/html": [
       "<div>\n",
       "<style scoped>\n",
       "    .dataframe tbody tr th:only-of-type {\n",
       "        vertical-align: middle;\n",
       "    }\n",
       "\n",
       "    .dataframe tbody tr th {\n",
       "        vertical-align: top;\n",
       "    }\n",
       "\n",
       "    .dataframe thead th {\n",
       "        text-align: right;\n",
       "    }\n",
       "</style>\n",
       "<table border=\"1\" class=\"dataframe\">\n",
       "  <thead>\n",
       "    <tr style=\"text-align: right;\">\n",
       "      <th></th>\n",
       "      <th>E-Mail</th>\n",
       "      <th>Phone</th>\n",
       "      <th>Name</th>\n",
       "      <th>Instituton</th>\n",
       "      <th>CGPA</th>\n",
       "      <th>12th Marks</th>\n",
       "      <th>10th Marks</th>\n",
       "      <th>No of Prog Lang</th>\n",
       "      <th>Programming Lang</th>\n",
       "    </tr>\n",
       "  </thead>\n",
       "  <tbody>\n",
       "    <tr>\n",
       "      <th>0</th>\n",
       "      <td>venkateshgupta1800@gmail.com</td>\n",
       "      <td>+91-9871014267</td>\n",
       "      <td>Venkatesh</td>\n",
       "      <td>Galgotias University, Greater Noida</td>\n",
       "      <td>8.52</td>\n",
       "      <td>89.6%</td>\n",
       "      <td>93.3 %</td>\n",
       "      <td>2</td>\n",
       "      <td>Java, Python</td>\n",
       "    </tr>\n",
       "    <tr>\n",
       "      <th>1</th>\n",
       "      <td>rakesh25892@gmail.com</td>\n",
       "      <td>+91-8826111879</td>\n",
       "      <td>Rakesh Kumar Sah</td>\n",
       "      <td>Galgotias University, Greater Noida</td>\n",
       "      <td>8.21</td>\n",
       "      <td>NaN</td>\n",
       "      <td>NaN</td>\n",
       "      <td>2</td>\n",
       "      <td>Php, Python</td>\n",
       "    </tr>\n",
       "    <tr>\n",
       "      <th>2</th>\n",
       "      <td>avinashraj23@gmail.com</td>\n",
       "      <td>+91-9650495343</td>\n",
       "      <td>Avinash Raj</td>\n",
       "      <td>University University</td>\n",
       "      <td>78.6%</td>\n",
       "      <td>NaN</td>\n",
       "      <td>NaN</td>\n",
       "      <td>2</td>\n",
       "      <td>Php, Javascript</td>\n",
       "    </tr>\n",
       "  </tbody>\n",
       "</table>\n",
       "</div>"
      ],
      "text/plain": [
       "                         E-Mail           Phone              Name  \\\n",
       "0  venkateshgupta1800@gmail.com  +91-9871014267         Venkatesh   \n",
       "1         rakesh25892@gmail.com  +91-8826111879  Rakesh Kumar Sah   \n",
       "2        avinashraj23@gmail.com  +91-9650495343       Avinash Raj   \n",
       "\n",
       "                            Instituton   CGPA 12th Marks 10th Marks  \\\n",
       "0  Galgotias University, Greater Noida   8.52      89.6%     93.3 %   \n",
       "1  Galgotias University, Greater Noida   8.21        NaN        NaN   \n",
       "2                University University  78.6%        NaN        NaN   \n",
       "\n",
       "   No of Prog Lang Programming Lang  \n",
       "0                2     Java, Python  \n",
       "1                2      Php, Python  \n",
       "2                2  Php, Javascript  "
      ]
     },
     "metadata": {},
     "output_type": "display_data"
    }
   ],
   "source": [
    "display(frame)"
   ]
  },
  {
   "cell_type": "code",
   "execution_count": 10,
   "metadata": {},
   "outputs": [
    {
     "data": {
      "text/html": [
       "<div>\n",
       "<style scoped>\n",
       "    .dataframe tbody tr th:only-of-type {\n",
       "        vertical-align: middle;\n",
       "    }\n",
       "\n",
       "    .dataframe tbody tr th {\n",
       "        vertical-align: top;\n",
       "    }\n",
       "\n",
       "    .dataframe thead th {\n",
       "        text-align: right;\n",
       "    }\n",
       "</style>\n",
       "<table border=\"1\" class=\"dataframe\">\n",
       "  <thead>\n",
       "    <tr style=\"text-align: right;\">\n",
       "      <th></th>\n",
       "      <th>E-Mail</th>\n",
       "      <th>Phone</th>\n",
       "      <th>Name</th>\n",
       "      <th>Instituton</th>\n",
       "      <th>CGPA</th>\n",
       "      <th>12th Marks</th>\n",
       "      <th>10th Marks</th>\n",
       "      <th>No of Prog Lang</th>\n",
       "      <th>Programming Lang</th>\n",
       "    </tr>\n",
       "  </thead>\n",
       "  <tbody>\n",
       "    <tr>\n",
       "      <th>0</th>\n",
       "      <td>venkateshgupta1800@gmail.com</td>\n",
       "      <td>+91-9871014267</td>\n",
       "      <td>Venkatesh</td>\n",
       "      <td>Galgotias University, Greater Noida</td>\n",
       "      <td>8.52</td>\n",
       "      <td>89.6%</td>\n",
       "      <td>93.3 %</td>\n",
       "      <td>2</td>\n",
       "      <td>Java, Python</td>\n",
       "    </tr>\n",
       "    <tr>\n",
       "      <th>1</th>\n",
       "      <td>rakesh25892@gmail.com</td>\n",
       "      <td>+91-8826111879</td>\n",
       "      <td>Rakesh Kumar Sah</td>\n",
       "      <td>Galgotias University, Greater Noida</td>\n",
       "      <td>8.21</td>\n",
       "      <td>NaN</td>\n",
       "      <td>NaN</td>\n",
       "      <td>2</td>\n",
       "      <td>Php, Python</td>\n",
       "    </tr>\n",
       "    <tr>\n",
       "      <th>2</th>\n",
       "      <td>avinashraj23@gmail.com</td>\n",
       "      <td>+91-9650495343</td>\n",
       "      <td>Avinash Raj</td>\n",
       "      <td>University University</td>\n",
       "      <td>78.6%</td>\n",
       "      <td>NaN</td>\n",
       "      <td>NaN</td>\n",
       "      <td>2</td>\n",
       "      <td>Php, Javascript</td>\n",
       "    </tr>\n",
       "  </tbody>\n",
       "</table>\n",
       "</div>"
      ],
      "text/plain": [
       "                         E-Mail           Phone              Name  \\\n",
       "0  venkateshgupta1800@gmail.com  +91-9871014267         Venkatesh   \n",
       "1         rakesh25892@gmail.com  +91-8826111879  Rakesh Kumar Sah   \n",
       "2        avinashraj23@gmail.com  +91-9650495343       Avinash Raj   \n",
       "\n",
       "                            Instituton   CGPA 12th Marks 10th Marks  \\\n",
       "0  Galgotias University, Greater Noida   8.52      89.6%     93.3 %   \n",
       "1  Galgotias University, Greater Noida   8.21        NaN        NaN   \n",
       "2                University University  78.6%        NaN        NaN   \n",
       "\n",
       "   No of Prog Lang Programming Lang  \n",
       "0                2     Java, Python  \n",
       "1                2      Php, Python  \n",
       "2                2  Php, Javascript  "
      ]
     },
     "execution_count": 10,
     "metadata": {},
     "output_type": "execute_result"
    }
   ],
   "source": [
    "frame.head()"
   ]
  },
  {
   "cell_type": "code",
   "execution_count": 11,
   "metadata": {},
   "outputs": [
    {
     "name": "stdout",
     "output_type": "stream",
     "text": [
      "<class 'pandas.core.frame.DataFrame'>\n",
      "RangeIndex: 3 entries, 0 to 2\n",
      "Data columns (total 9 columns):\n",
      "E-Mail              3 non-null object\n",
      "Phone               3 non-null object\n",
      "Name                3 non-null object\n",
      "Instituton          3 non-null object\n",
      "CGPA                3 non-null object\n",
      "12th Marks          1 non-null object\n",
      "10th Marks          1 non-null object\n",
      "No of Prog Lang     3 non-null int64\n",
      "Programming Lang    3 non-null object\n",
      "dtypes: int64(1), object(8)\n",
      "memory usage: 296.0+ bytes\n"
     ]
    }
   ],
   "source": [
    "frame.info()"
   ]
  },
  {
   "cell_type": "code",
   "execution_count": 12,
   "metadata": {},
   "outputs": [
    {
     "data": {
      "text/plain": [
       "Index(['E-Mail', 'Phone', 'Name', 'Instituton', 'CGPA', '12th Marks',\n",
       "       '10th Marks', 'No of Prog Lang', 'Programming Lang'],\n",
       "      dtype='object')"
      ]
     },
     "execution_count": 12,
     "metadata": {},
     "output_type": "execute_result"
    }
   ],
   "source": [
    "frame.columns"
   ]
  }
 ],
 "metadata": {
  "kernelspec": {
   "display_name": "Python 3",
   "language": "python",
   "name": "python3"
  },
  "language_info": {
   "codemirror_mode": {
    "name": "ipython",
    "version": 3
   },
   "file_extension": ".py",
   "mimetype": "text/x-python",
   "name": "python",
   "nbconvert_exporter": "python",
   "pygments_lexer": "ipython3",
   "version": "3.6.5"
  }
 },
 "nbformat": 4,
 "nbformat_minor": 2
}
